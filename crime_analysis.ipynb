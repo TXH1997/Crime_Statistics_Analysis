{
 "cells": [
  {
   "cell_type": "markdown",
   "id": "inappropriate-cancer",
   "metadata": {},
   "source": [
    "## 使用pandas读取\"Crime Statistics\"的数据"
   ]
  },
  {
   "cell_type": "code",
   "execution_count": 1,
   "id": "powered-johns",
   "metadata": {},
   "outputs": [],
   "source": [
    "import pandas as pds\n",
    "\n",
    "data = pds.read_csv('./Oakland Crime Statistics 2011 to 2016/records-for-2011.csv') \n",
    "data.dropna(how='all', inplace=True)"
   ]
  },
  {
   "cell_type": "markdown",
   "id": "voluntary-theory",
   "metadata": {},
   "source": [
    "## 数值属性的五数概括"
   ]
  },
  {
   "cell_type": "code",
   "execution_count": 2,
   "id": "norman-funds",
   "metadata": {},
   "outputs": [
    {
     "data": {
      "text/html": [
       "<div>\n",
       "<style scoped>\n",
       "    .dataframe tbody tr th:only-of-type {\n",
       "        vertical-align: middle;\n",
       "    }\n",
       "\n",
       "    .dataframe tbody tr th {\n",
       "        vertical-align: top;\n",
       "    }\n",
       "\n",
       "    .dataframe thead th {\n",
       "        text-align: right;\n",
       "    }\n",
       "</style>\n",
       "<table border=\"1\" class=\"dataframe\">\n",
       "  <thead>\n",
       "    <tr style=\"text-align: right;\">\n",
       "      <th></th>\n",
       "      <th>Area Id</th>\n",
       "      <th>Priority</th>\n",
       "    </tr>\n",
       "  </thead>\n",
       "  <tbody>\n",
       "    <tr>\n",
       "      <th>count</th>\n",
       "      <td>179112.000000</td>\n",
       "      <td>180015.000000</td>\n",
       "    </tr>\n",
       "    <tr>\n",
       "      <th>mean</th>\n",
       "      <td>1.740648</td>\n",
       "      <td>1.796111</td>\n",
       "    </tr>\n",
       "    <tr>\n",
       "      <th>std</th>\n",
       "      <td>0.746468</td>\n",
       "      <td>0.402916</td>\n",
       "    </tr>\n",
       "    <tr>\n",
       "      <th>min</th>\n",
       "      <td>1.000000</td>\n",
       "      <td>0.000000</td>\n",
       "    </tr>\n",
       "    <tr>\n",
       "      <th>25%</th>\n",
       "      <td>1.000000</td>\n",
       "      <td>2.000000</td>\n",
       "    </tr>\n",
       "    <tr>\n",
       "      <th>50%</th>\n",
       "      <td>2.000000</td>\n",
       "      <td>2.000000</td>\n",
       "    </tr>\n",
       "    <tr>\n",
       "      <th>75%</th>\n",
       "      <td>2.000000</td>\n",
       "      <td>2.000000</td>\n",
       "    </tr>\n",
       "    <tr>\n",
       "      <th>max</th>\n",
       "      <td>3.000000</td>\n",
       "      <td>2.000000</td>\n",
       "    </tr>\n",
       "  </tbody>\n",
       "</table>\n",
       "</div>"
      ],
      "text/plain": [
       "             Area Id       Priority\n",
       "count  179112.000000  180015.000000\n",
       "mean        1.740648       1.796111\n",
       "std         0.746468       0.402916\n",
       "min         1.000000       0.000000\n",
       "25%         1.000000       2.000000\n",
       "50%         2.000000       2.000000\n",
       "75%         2.000000       2.000000\n",
       "max         3.000000       2.000000"
      ]
     },
     "execution_count": 2,
     "metadata": {},
     "output_type": "execute_result"
    }
   ],
   "source": [
    "data[['Area Id', 'Priority']].describe()"
   ]
  },
  {
   "cell_type": "code",
   "execution_count": 3,
   "id": "expired-offset",
   "metadata": {},
   "outputs": [
    {
     "data": {
      "text/html": [
       "<div>\n",
       "<style scoped>\n",
       "    .dataframe tbody tr th:only-of-type {\n",
       "        vertical-align: middle;\n",
       "    }\n",
       "\n",
       "    .dataframe tbody tr th {\n",
       "        vertical-align: top;\n",
       "    }\n",
       "\n",
       "    .dataframe thead th {\n",
       "        text-align: right;\n",
       "    }\n",
       "</style>\n",
       "<table border=\"1\" class=\"dataframe\">\n",
       "  <thead>\n",
       "    <tr style=\"text-align: right;\">\n",
       "      <th></th>\n",
       "      <th>Agency</th>\n",
       "      <th>Create Time</th>\n",
       "      <th>Location</th>\n",
       "      <th>Area Id</th>\n",
       "      <th>Beat</th>\n",
       "      <th>Priority</th>\n",
       "      <th>Incident Type Id</th>\n",
       "      <th>Incident Type Description</th>\n",
       "      <th>Event Number</th>\n",
       "      <th>Closed Time</th>\n",
       "    </tr>\n",
       "  </thead>\n",
       "  <tbody>\n",
       "    <tr>\n",
       "      <th>0</th>\n",
       "      <td>OP</td>\n",
       "      <td>2011-01-01T00:00:00.000</td>\n",
       "      <td>ST&amp;SAN PABLO AV</td>\n",
       "      <td>1.0</td>\n",
       "      <td>06X</td>\n",
       "      <td>1</td>\n",
       "      <td>PDOA</td>\n",
       "      <td>POSSIBLE DEAD PERSON</td>\n",
       "      <td>LOP110101000001</td>\n",
       "      <td>2011-01-01T00:28:17.000</td>\n",
       "    </tr>\n",
       "    <tr>\n",
       "      <th>1</th>\n",
       "      <td>OP</td>\n",
       "      <td>2011-01-01T00:01:11.000</td>\n",
       "      <td>ST&amp;HANNAH ST</td>\n",
       "      <td>1.0</td>\n",
       "      <td>07X</td>\n",
       "      <td>1</td>\n",
       "      <td>415GS</td>\n",
       "      <td>415 GUNSHOTS</td>\n",
       "      <td>LOP110101000002</td>\n",
       "      <td>2011-01-01T01:12:56.000</td>\n",
       "    </tr>\n",
       "    <tr>\n",
       "      <th>2</th>\n",
       "      <td>OP</td>\n",
       "      <td>2011-01-01T00:01:25.000</td>\n",
       "      <td>ST&amp;MARKET ST</td>\n",
       "      <td>1.0</td>\n",
       "      <td>10Y</td>\n",
       "      <td>2</td>\n",
       "      <td>415GS</td>\n",
       "      <td>415 GUNSHOTS</td>\n",
       "      <td>LOP110101000003</td>\n",
       "      <td>2011-01-01T00:07:20.000</td>\n",
       "    </tr>\n",
       "  </tbody>\n",
       "</table>\n",
       "</div>"
      ],
      "text/plain": [
       "  Agency              Create Time          Location  Area Id Beat  Priority  \\\n",
       "0     OP  2011-01-01T00:00:00.000   ST&SAN PABLO AV      1.0  06X         1   \n",
       "1     OP  2011-01-01T00:01:11.000     ST&HANNAH ST       1.0  07X         1   \n",
       "2     OP  2011-01-01T00:01:25.000     ST&MARKET ST       1.0  10Y         2   \n",
       "\n",
       "  Incident Type Id Incident Type Description     Event Number  \\\n",
       "0             PDOA      POSSIBLE DEAD PERSON  LOP110101000001   \n",
       "1            415GS              415 GUNSHOTS  LOP110101000002   \n",
       "2            415GS              415 GUNSHOTS  LOP110101000003   \n",
       "\n",
       "               Closed Time  \n",
       "0  2011-01-01T00:28:17.000  \n",
       "1  2011-01-01T01:12:56.000  \n",
       "2  2011-01-01T00:07:20.000  "
      ]
     },
     "execution_count": 3,
     "metadata": {},
     "output_type": "execute_result"
    }
   ],
   "source": [
    "data.head(3)"
   ]
  },
  {
   "cell_type": "markdown",
   "id": "moderate-singer",
   "metadata": {},
   "source": [
    "## 标称属性的聚会频数"
   ]
  },
  {
   "cell_type": "code",
   "execution_count": 4,
   "id": "banned-cylinder",
   "metadata": {},
   "outputs": [
    {
     "data": {
      "text/plain": [
       "OP    180015\n",
       "Name: Agency, dtype: int64"
      ]
     },
     "execution_count": 4,
     "metadata": {},
     "output_type": "execute_result"
    }
   ],
   "source": [
    "data['Agency'].value_counts()"
   ]
  },
  {
   "cell_type": "code",
   "execution_count": 5,
   "id": "later-jacob",
   "metadata": {},
   "outputs": [
    {
     "data": {
      "text/plain": [
       "2011-06-02T00:00:00.000    4\n",
       "2011-09-21T14:05:59.000    3\n",
       "2011-03-27T00:22:41.000    3\n",
       "2011-09-13T12:24:22.000    2\n",
       "2011-06-07T11:17:10.000    2\n",
       "                          ..\n",
       "2011-10-27T03:38:49.000    1\n",
       "2011-03-07T14:39:32.000    1\n",
       "2011-08-19T13:23:47.000    1\n",
       "2011-01-01T18:15:43.000    1\n",
       "2011-09-10T13:47:52.000    1\n",
       "Name: Create Time, Length: 179451, dtype: int64"
      ]
     },
     "execution_count": 5,
     "metadata": {},
     "output_type": "execute_result"
    }
   ],
   "source": [
    "data['Create Time'].value_counts()"
   ]
  },
  {
   "cell_type": "code",
   "execution_count": 6,
   "id": "breathing-august",
   "metadata": {},
   "outputs": [
    {
     "data": {
      "text/plain": [
       " INTERNATIONAL BLVD              3866\n",
       " MACARTHUR BLVD                  3129\n",
       " AV&INTERNATIONAL BLVD           3067\n",
       " BROADWAY                        2132\n",
       " FOOTHILL BLVD                   1791\n",
       "                                 ... \n",
       "77TH HARWOOD AV                     1\n",
       "4TH ST&COOLIDGE AV                  1\n",
       "58TH 61ST ST                        1\n",
       "EMBARCADERO 19TH ST&PARK BLVD       1\n",
       "COLLEGE CIRCLE HILL DR              1\n",
       "Name: Location, Length: 32505, dtype: int64"
      ]
     },
     "execution_count": 6,
     "metadata": {},
     "output_type": "execute_result"
    }
   ],
   "source": [
    "data['Location'].value_counts()"
   ]
  },
  {
   "cell_type": "code",
   "execution_count": 7,
   "id": "cordless-address",
   "metadata": {},
   "outputs": [
    {
     "data": {
      "text/plain": [
       "04X     7410\n",
       "08X     6885\n",
       "26Y     5478\n",
       "30Y     5295\n",
       "06X     5119\n",
       "23X     5051\n",
       "30X     4956\n",
       "19X     4955\n",
       "34X     4673\n",
       "29X     4483\n",
       "20X     4287\n",
       "27Y     4159\n",
       "07X     4134\n",
       "31Y     4082\n",
       "25X     4022\n",
       "35X     3880\n",
       "33X     3849\n",
       "03X     3819\n",
       "32X     3711\n",
       "27X     3703\n",
       "09X     3630\n",
       "21Y     3435\n",
       "32Y     3125\n",
       "22X     3061\n",
       "26X     2978\n",
       "02Y     2970\n",
       "10X     2967\n",
       "14X     2733\n",
       "03Y     2726\n",
       "22Y     2664\n",
       "12Y     2651\n",
       "05X     2633\n",
       "02X     2614\n",
       "31X     2603\n",
       "21X     2593\n",
       "17Y     2582\n",
       "24Y     2575\n",
       "13Z     2546\n",
       "15X     2509\n",
       "24X     2459\n",
       "12X     2422\n",
       "10Y     2383\n",
       "01X     2210\n",
       "28X     2191\n",
       "17X     2133\n",
       "11X     2087\n",
       "13Y     2017\n",
       "35Y     1956\n",
       "31Z     1870\n",
       "18Y     1778\n",
       "16Y     1561\n",
       "14Y     1492\n",
       "25Y     1482\n",
       "13X     1122\n",
       "18X     1063\n",
       "16X      994\n",
       "05Y      710\n",
       "PDT2      20\n",
       "Name: Beat, dtype: int64"
      ]
     },
     "execution_count": 7,
     "metadata": {},
     "output_type": "execute_result"
    }
   ],
   "source": [
    "data['Beat'].value_counts()"
   ]
  },
  {
   "cell_type": "code",
   "execution_count": 8,
   "id": "permanent-tutorial",
   "metadata": {},
   "outputs": [
    {
     "data": {
      "text/plain": [
       "933R      17348\n",
       "911H      12817\n",
       "SECCK     11393\n",
       "415       10752\n",
       "10851      7180\n",
       "          ...  \n",
       "MTHLAB        1\n",
       "346           1\n",
       "970A          1\n",
       "140           1\n",
       "FLOOD         1\n",
       "Name: Incident Type Id, Length: 263, dtype: int64"
      ]
     },
     "execution_count": 8,
     "metadata": {},
     "output_type": "execute_result"
    }
   ],
   "source": [
    "data['Incident Type Id'].value_counts()"
   ]
  },
  {
   "cell_type": "code",
   "execution_count": 9,
   "id": "lined-jordan",
   "metadata": {},
   "outputs": [
    {
     "data": {
      "text/plain": [
       "ALARM-RINGER            17348\n",
       "911 HANG-UP             12817\n",
       "SECURITY CHECK          11393\n",
       "STOLEN VEHICLE           7180\n",
       "415 UNKNOWN              6624\n",
       "                        ...  \n",
       "INJURE TELEPHONE/POW        1\n",
       "FLOOD                       1\n",
       "FALSE BOMB REPORT TO        1\n",
       "AGGRAVATED ASSAULT O        1\n",
       "LOCKOUT                     1\n",
       "Name: Incident Type Description, Length: 265, dtype: int64"
      ]
     },
     "execution_count": 9,
     "metadata": {},
     "output_type": "execute_result"
    }
   ],
   "source": [
    "data['Incident Type Description'].value_counts()"
   ]
  },
  {
   "cell_type": "code",
   "execution_count": 10,
   "id": "durable-department",
   "metadata": {},
   "outputs": [
    {
     "data": {
      "text/plain": [
       "LOP110606000101    1\n",
       "LOP111012000944    1\n",
       "LOP110117000850    1\n",
       "LOP110113000351    1\n",
       "LOP110101000253    1\n",
       "                  ..\n",
       "LOP110801000366    1\n",
       "LOP110326000308    1\n",
       "LOP110502000676    1\n",
       "LOP110224000480    1\n",
       "LOP110610000223    1\n",
       "Name: Event Number, Length: 180015, dtype: int64"
      ]
     },
     "execution_count": 10,
     "metadata": {},
     "output_type": "execute_result"
    }
   ],
   "source": [
    "data['Event Number'].value_counts()"
   ]
  },
  {
   "cell_type": "code",
   "execution_count": 11,
   "id": "together-robertson",
   "metadata": {},
   "outputs": [
    {
     "data": {
      "text/plain": [
       "2011-07-04T19:48:05.000    2\n",
       "2011-08-02T14:11:54.000    2\n",
       "2011-10-07T20:43:31.000    2\n",
       "2011-01-07T22:59:11.000    2\n",
       "2011-08-28T01:30:34.000    2\n",
       "                          ..\n",
       "2011-10-27T22:48:25.000    1\n",
       "2011-08-05T13:53:18.000    1\n",
       "2011-12-01T14:02:27.000    1\n",
       "2011-11-14T11:27:29.000    1\n",
       "2011-10-15T14:19:50.000    1\n",
       "Name: Closed Time, Length: 179506, dtype: int64"
      ]
     },
     "execution_count": 11,
     "metadata": {},
     "output_type": "execute_result"
    }
   ],
   "source": [
    "data['Closed Time'].value_counts()"
   ]
  },
  {
   "cell_type": "markdown",
   "id": "classical-headset",
   "metadata": {},
   "source": [
    "## 数值属性Area Id的缺失值个数"
   ]
  },
  {
   "cell_type": "code",
   "execution_count": 12,
   "id": "transparent-programmer",
   "metadata": {},
   "outputs": [
    {
     "data": {
      "text/plain": [
       "903"
      ]
     },
     "execution_count": 12,
     "metadata": {},
     "output_type": "execute_result"
    }
   ],
   "source": [
    "data['Area Id'].isnull().sum()"
   ]
  },
  {
   "cell_type": "markdown",
   "id": "ordinary-arabic",
   "metadata": {},
   "source": [
    "## 数值属性Priority的缺失值个数"
   ]
  },
  {
   "cell_type": "code",
   "execution_count": 13,
   "id": "checked-eagle",
   "metadata": {},
   "outputs": [
    {
     "data": {
      "text/plain": [
       "0"
      ]
     },
     "execution_count": 13,
     "metadata": {},
     "output_type": "execute_result"
    }
   ],
   "source": [
    "data['Priority'].isnull().sum()"
   ]
  },
  {
   "cell_type": "markdown",
   "id": "future-turtle",
   "metadata": {},
   "source": [
    "## 数值属性Area Id的直方图和盒图"
   ]
  },
  {
   "cell_type": "code",
   "execution_count": 14,
   "id": "graphic-nirvana",
   "metadata": {},
   "outputs": [
    {
     "data": {
      "text/plain": [
       "array([[<AxesSubplot:title={'center':'Area Id'}>]], dtype=object)"
      ]
     },
     "execution_count": 14,
     "metadata": {},
     "output_type": "execute_result"
    },
    {
     "data": {
      "image/png": "[encoded data removed]",
      "text/plain": [
       "<Figure size 432x288 with 1 Axes>"
      ]
     },
     "metadata": {
      "needs_background": "light"
     },
     "output_type": "display_data"
    }
   ],
   "source": [
    "data.hist(['Area Id'])"
   ]
  },
  {
   "cell_type": "code",
   "execution_count": 15,
   "id": "optional-university",
   "metadata": {},
   "outputs": [
    {
     "data": {
      "text/plain": [
       "<AxesSubplot:>"
      ]
     },
     "execution_count": 15,
     "metadata": {},
     "output_type": "execute_result"
    },
    {
     "data": {
      "image/png": "[encoded data removed]",
      "text/plain": [
       "<Figure size 432x288 with 1 Axes>"
      ]
     },
     "metadata": {
      "needs_background": "light"
     },
     "output_type": "display_data"
    }
   ],
   "source": [
    "data.boxplot(['Area Id'])"
   ]
  },
  {
   "cell_type": "markdown",
   "id": "welsh-drain",
   "metadata": {},
   "source": [
    "## 数值属性Priority的直方图和盒图"
   ]
  },
  {
   "cell_type": "code",
   "execution_count": 16,
   "id": "hidden-thriller",
   "metadata": {},
   "outputs": [
    {
     "data": {
      "text/plain": [
       "array([[<AxesSubplot:title={'center':'Priority'}>]], dtype=object)"
      ]
     },
     "execution_count": 16,
     "metadata": {},
     "output_type": "execute_result"
    },
    {
     "data": {
      "image/png": "[encoded data removed]",
      "text/plain": [
       "<Figure size 432x288 with 1 Axes>"
      ]
     },
     "metadata": {
      "needs_background": "light"
     },
     "output_type": "display_data"
    }
   ],
   "source": [
    "data.hist(['Priority'])"
   ]
  },
  {
   "cell_type": "code",
   "execution_count": 17,
   "id": "atmospheric-mailman",
   "metadata": {},
   "outputs": [
    {
     "data": {
      "text/plain": [
       "<AxesSubplot:>"
      ]
     },
     "execution_count": 17,
     "metadata": {},
     "output_type": "execute_result"
    },
    {
     "data": {
      "image/png": "[encoded data removed]",
      "text/plain": [
       "<Figure size 432x288 with 1 Axes>"
      ]
     },
     "metadata": {
      "needs_background": "light"
     },
     "output_type": "display_data"
    }
   ],
   "source": [
    "data.boxplot(['Priority'])"
   ]
  },
  {
   "cell_type": "code",
   "execution_count": 18,
   "id": "later-brown",
   "metadata": {},
   "outputs": [
    {
     "data": {
      "text/plain": [
       "1.0    79152\n",
       "2.0    67261\n",
       "3.0    32699\n",
       "Name: Area Id, dtype: int64"
      ]
     },
     "execution_count": 18,
     "metadata": {},
     "output_type": "execute_result"
    }
   ],
   "source": [
    "data['Area Id'].value_counts()"
   ]
  },
  {
   "cell_type": "code",
   "execution_count": 19,
   "id": "clear-wireless",
   "metadata": {},
   "outputs": [
    {
     "data": {
      "text/plain": [
       "2    143314\n",
       "1     36699\n",
       "0         2\n",
       "Name: Priority, dtype: int64"
      ]
     },
     "execution_count": 19,
     "metadata": {},
     "output_type": "execute_result"
    }
   ],
   "source": [
    "data['Priority'].value_counts()"
   ]
  },
  {
   "cell_type": "markdown",
   "id": "protecting-sheriff",
   "metadata": {},
   "source": [
    "## 剔除缺失值先后Area Id的直方图、盒图和五数概括对比"
   ]
  },
  {
   "cell_type": "code",
   "execution_count": 20,
   "id": "lasting-pantyhose",
   "metadata": {},
   "outputs": [
    {
     "name": "stderr",
     "output_type": "stream",
     "text": [
      "c:\\miniconda3\\envs\\nbook\\lib\\site-packages\\pandas\\plotting\\_matplotlib\\tools.py:400: MatplotlibDeprecationWarning: \n",
      "The is_first_col function was deprecated in Matplotlib 3.4 and will be removed two minor releases later. Use ax.get_subplotspec().is_first_col() instead.\n",
      "  if ax.is_first_col():\n"
     ]
    },
    {
     "data": {
      "text/plain": [
       "array([[<AxesSubplot:title={'center':'original'}>,\n",
       "        <AxesSubplot:title={'center':'dropped'}>]], dtype=object)"
      ]
     },
     "execution_count": 20,
     "metadata": {},
     "output_type": "execute_result"
    },
    {
     "data": {
      "image/png": "[encoded data removed]",
      "text/plain": [
       "<Figure size 432x288 with 2 Axes>"
      ]
     },
     "metadata": {
      "needs_background": "light"
     },
     "output_type": "display_data"
    }
   ],
   "source": [
    "dropped_data = data.dropna(subset=['Area Id'])\n",
    "cmp_dropped_area = pds.DataFrame({'original': data['Area Id'], 'dropped': dropped_data['Area Id']})\n",
    "cmp_dropped_area.hist()"
   ]
  },
  {
   "cell_type": "code",
   "execution_count": 21,
   "id": "compliant-singing",
   "metadata": {},
   "outputs": [
    {
     "data": {
      "text/plain": [
       "<AxesSubplot:>"
      ]
     },
     "execution_count": 21,
     "metadata": {},
     "output_type": "execute_result"
    },
    {
     "data": {
      "image/png": "[encoded data removed]",
      "text/plain": [
       "<Figure size 432x288 with 1 Axes>"
      ]
     },
     "metadata": {
      "needs_background": "light"
     },
     "output_type": "display_data"
    }
   ],
   "source": [
    "cmp_dropped_area.boxplot()"
   ]
  },
  {
   "cell_type": "code",
   "execution_count": 22,
   "id": "structural-catch",
   "metadata": {},
   "outputs": [
    {
     "data": {
      "text/html": [
       "<div>\n",
       "<style scoped>\n",
       "    .dataframe tbody tr th:only-of-type {\n",
       "        vertical-align: middle;\n",
       "    }\n",
       "\n",
       "    .dataframe tbody tr th {\n",
       "        vertical-align: top;\n",
       "    }\n",
       "\n",
       "    .dataframe thead th {\n",
       "        text-align: right;\n",
       "    }\n",
       "</style>\n",
       "<table border=\"1\" class=\"dataframe\">\n",
       "  <thead>\n",
       "    <tr style=\"text-align: right;\">\n",
       "      <th></th>\n",
       "      <th>original</th>\n",
       "      <th>dropped</th>\n",
       "    </tr>\n",
       "  </thead>\n",
       "  <tbody>\n",
       "    <tr>\n",
       "      <th>count</th>\n",
       "      <td>179112.000000</td>\n",
       "      <td>179112.000000</td>\n",
       "    </tr>\n",
       "    <tr>\n",
       "      <th>mean</th>\n",
       "      <td>1.740648</td>\n",
       "      <td>1.740648</td>\n",
       "    </tr>\n",
       "    <tr>\n",
       "      <th>std</th>\n",
       "      <td>0.746468</td>\n",
       "      <td>0.746468</td>\n",
       "    </tr>\n",
       "    <tr>\n",
       "      <th>min</th>\n",
       "      <td>1.000000</td>\n",
       "      <td>1.000000</td>\n",
       "    </tr>\n",
       "    <tr>\n",
       "      <th>25%</th>\n",
       "      <td>1.000000</td>\n",
       "      <td>1.000000</td>\n",
       "    </tr>\n",
       "    <tr>\n",
       "      <th>50%</th>\n",
       "      <td>2.000000</td>\n",
       "      <td>2.000000</td>\n",
       "    </tr>\n",
       "    <tr>\n",
       "      <th>75%</th>\n",
       "      <td>2.000000</td>\n",
       "      <td>2.000000</td>\n",
       "    </tr>\n",
       "    <tr>\n",
       "      <th>max</th>\n",
       "      <td>3.000000</td>\n",
       "      <td>3.000000</td>\n",
       "    </tr>\n",
       "  </tbody>\n",
       "</table>\n",
       "</div>"
      ],
      "text/plain": [
       "            original        dropped\n",
       "count  179112.000000  179112.000000\n",
       "mean        1.740648       1.740648\n",
       "std         0.746468       0.746468\n",
       "min         1.000000       1.000000\n",
       "25%         1.000000       1.000000\n",
       "50%         2.000000       2.000000\n",
       "75%         2.000000       2.000000\n",
       "max         3.000000       3.000000"
      ]
     },
     "execution_count": 22,
     "metadata": {},
     "output_type": "execute_result"
    }
   ],
   "source": [
    "cmp_dropped_area.describe()"
   ]
  },
  {
   "cell_type": "markdown",
   "id": "blocked-drama",
   "metadata": {},
   "source": [
    "## 以最高频率值填补缺失值，以及填补前后的直方图、盒图和五数概括对比"
   ]
  },
  {
   "cell_type": "code",
   "execution_count": 23,
   "id": "level-boundary",
   "metadata": {},
   "outputs": [
    {
     "name": "stderr",
     "output_type": "stream",
     "text": [
      "c:\\miniconda3\\envs\\nbook\\lib\\site-packages\\pandas\\plotting\\_matplotlib\\tools.py:400: MatplotlibDeprecationWarning: \n",
      "The is_first_col function was deprecated in Matplotlib 3.4 and will be removed two minor releases later. Use ax.get_subplotspec().is_first_col() instead.\n",
      "  if ax.is_first_col():\n"
     ]
    },
    {
     "data": {
      "text/plain": [
       "array([[<AxesSubplot:title={'center':'original'}>,\n",
       "        <AxesSubplot:title={'center':'fillna'}>]], dtype=object)"
      ]
     },
     "execution_count": 23,
     "metadata": {},
     "output_type": "execute_result"
    },
    {
     "data": {
      "image/png": "[encoded data removed]",
      "text/plain": [
       "<Figure size 432x288 with 2 Axes>"
      ]
     },
     "metadata": {
      "needs_background": "light"
     },
     "output_type": "display_data"
    }
   ],
   "source": [
    "most_freq = data['Area Id'].value_counts().index[0]\n",
    "area_fillna_freq = data['Area Id'].fillna(most_freq)\n",
    "cmp_fillna_freq_area = pds.DataFrame({'original': data['Area Id'], 'fillna': area_fillna_freq})\n",
    "cmp_fillna_freq_area.hist()"
   ]
  },
  {
   "cell_type": "code",
   "execution_count": 24,
   "id": "crucial-portland",
   "metadata": {},
   "outputs": [
    {
     "data": {
      "text/plain": [
       "<AxesSubplot:>"
      ]
     },
     "execution_count": 24,
     "metadata": {},
     "output_type": "execute_result"
    },
    {
     "data": {
      "image/png": "[encoded data removed]",
      "text/plain": [
       "<Figure size 432x288 with 1 Axes>"
      ]
     },
     "metadata": {
      "needs_background": "light"
     },
     "output_type": "display_data"
    }
   ],
   "source": [
    "cmp_fillna_freq_area.boxplot()"
   ]
  },
  {
   "cell_type": "code",
   "execution_count": 25,
   "id": "failing-missouri",
   "metadata": {},
   "outputs": [
    {
     "data": {
      "text/html": [
       "<div>\n",
       "<style scoped>\n",
       "    .dataframe tbody tr th:only-of-type {\n",
       "        vertical-align: middle;\n",
       "    }\n",
       "\n",
       "    .dataframe tbody tr th {\n",
       "        vertical-align: top;\n",
       "    }\n",
       "\n",
       "    .dataframe thead th {\n",
       "        text-align: right;\n",
       "    }\n",
       "</style>\n",
       "<table border=\"1\" class=\"dataframe\">\n",
       "  <thead>\n",
       "    <tr style=\"text-align: right;\">\n",
       "      <th></th>\n",
       "      <th>original</th>\n",
       "      <th>fillna</th>\n",
       "    </tr>\n",
       "  </thead>\n",
       "  <tbody>\n",
       "    <tr>\n",
       "      <th>count</th>\n",
       "      <td>179112.000000</td>\n",
       "      <td>180015.000000</td>\n",
       "    </tr>\n",
       "    <tr>\n",
       "      <th>mean</th>\n",
       "      <td>1.740648</td>\n",
       "      <td>1.736933</td>\n",
       "    </tr>\n",
       "    <tr>\n",
       "      <th>std</th>\n",
       "      <td>0.746468</td>\n",
       "      <td>0.746430</td>\n",
       "    </tr>\n",
       "    <tr>\n",
       "      <th>min</th>\n",
       "      <td>1.000000</td>\n",
       "      <td>1.000000</td>\n",
       "    </tr>\n",
       "    <tr>\n",
       "      <th>25%</th>\n",
       "      <td>1.000000</td>\n",
       "      <td>1.000000</td>\n",
       "    </tr>\n",
       "    <tr>\n",
       "      <th>50%</th>\n",
       "      <td>2.000000</td>\n",
       "      <td>2.000000</td>\n",
       "    </tr>\n",
       "    <tr>\n",
       "      <th>75%</th>\n",
       "      <td>2.000000</td>\n",
       "      <td>2.000000</td>\n",
       "    </tr>\n",
       "    <tr>\n",
       "      <th>max</th>\n",
       "      <td>3.000000</td>\n",
       "      <td>3.000000</td>\n",
       "    </tr>\n",
       "  </tbody>\n",
       "</table>\n",
       "</div>"
      ],
      "text/plain": [
       "            original         fillna\n",
       "count  179112.000000  180015.000000\n",
       "mean        1.740648       1.736933\n",
       "std         0.746468       0.746430\n",
       "min         1.000000       1.000000\n",
       "25%         1.000000       1.000000\n",
       "50%         2.000000       2.000000\n",
       "75%         2.000000       2.000000\n",
       "max         3.000000       3.000000"
      ]
     },
     "execution_count": 25,
     "metadata": {},
     "output_type": "execute_result"
    }
   ],
   "source": [
    "cmp_fillna_freq_area.describe()"
   ]
  },
  {
   "cell_type": "markdown",
   "id": "consistent-refrigerator",
   "metadata": {},
   "source": [
    "## 由于Area Id不符合正态分布，无法使用皮尔逊相关系数通过属性的相关关系来填补缺失值"
   ]
  },
  {
   "cell_type": "code",
   "execution_count": 26,
   "id": "excessive-voluntary",
   "metadata": {},
   "outputs": [
    {
     "data": {
      "text/plain": [
       "NormaltestResult(statistic=74040.0765071928, pvalue=0.0)"
      ]
     },
     "execution_count": 26,
     "metadata": {},
     "output_type": "execute_result"
    }
   ],
   "source": [
    "import scipy.stats as ss\n",
    "dropped = data.dropna(subset=['Area Id', 'Priority'])\n",
    "\n",
    "ss.normaltest(dropped['Area Id'])"
   ]
  },
  {
   "cell_type": "code",
   "execution_count": 27,
   "id": "worse-favor",
   "metadata": {},
   "outputs": [
    {
     "data": {
      "text/plain": [
       "-0.023365943684172035"
      ]
     },
     "execution_count": 27,
     "metadata": {},
     "output_type": "execute_result"
    }
   ],
   "source": [
    "dropped['Area Id'].corr(dropped['Priority'], method='pearson')"
   ]
  },
  {
   "cell_type": "markdown",
   "id": "radio-aaron",
   "metadata": {},
   "source": [
    "## 计算数据对象相似性的函数，为了减少计算量而只考虑缺失值与附近20个对象的相似性"
   ]
  },
  {
   "cell_type": "code",
   "execution_count": 28,
   "id": "demographic-service",
   "metadata": {},
   "outputs": [],
   "source": [
    "def sim(e1, e2):\n",
    "    score = 0\n",
    "    score += int(e1['Agency'] == e2['Agency'])\n",
    "    score += int(e1['Create Time'] == e2['Create Time'])\n",
    "    score += int(e1['Location'] == e2['Location'])\n",
    "    score += abs(e1['Priority'] - e2['Priority'])\n",
    "    score += int(e1['Beat'] == e2['Beat'])\n",
    "    score += int(e1['Incident Type Id'] == e2['Incident Type Id'])\n",
    "    score += int(e1['Incident Type Description'] == e2['Incident Type Description'])\n",
    "    score += int(e1['Event Number'] == e2['Event Number'])\n",
    "    score += int(e1['Closed Time'] == e2['Closed Time'])\n",
    "    return score\n",
    "\n",
    "def get_fill_value(e0, pos):\n",
    "    head = pos - 10 if pos - 10 >= 0 else 0\n",
    "    tail = pos + 10 if pos + 10 <= len(data) else len(data)\n",
    "    scores = data.loc[range(head, tail)].apply(lambda e: sim(e0, e), axis=1)\n",
    "    sorted_scores = pds.DataFrame({'score': scores}).sort_values(['score'], ascending=False)\n",
    "    for i, pos in enumerate(sorted_scores.index.tolist()):\n",
    "        if i == 0 or data['Area Id'].isnull().values[pos]:\n",
    "            continue\n",
    "        else:\n",
    "            return data['Area Id'].loc[pos]"
   ]
  },
  {
   "cell_type": "markdown",
   "id": "previous-devon",
   "metadata": {},
   "source": [
    "## 使用最相似的数据对象对应的值来填补缺失值"
   ]
  },
  {
   "cell_type": "code",
   "execution_count": 29,
   "id": "legislative-albany",
   "metadata": {},
   "outputs": [],
   "source": [
    "most_sim = pds.DataFrame({'Area Id': data['Area Id']})\n",
    "col_num = data['Area Id'][data['Area Id'].isnull().values==True].index\n",
    "for i in col_num:\n",
    "    most_sim['Area Id'].loc[i] = get_fill_value(data.loc[i], i)"
   ]
  },
  {
   "cell_type": "markdown",
   "id": "regular-reverse",
   "metadata": {},
   "source": [
    "## 填补后的直方图、盒图和五数概括对比"
   ]
  },
  {
   "cell_type": "code",
   "execution_count": 30,
   "id": "normal-broadway",
   "metadata": {},
   "outputs": [
    {
     "name": "stderr",
     "output_type": "stream",
     "text": [
      "c:\\miniconda3\\envs\\nbook\\lib\\site-packages\\pandas\\plotting\\_matplotlib\\tools.py:400: MatplotlibDeprecationWarning: \n",
      "The is_first_col function was deprecated in Matplotlib 3.4 and will be removed two minor releases later. Use ax.get_subplotspec().is_first_col() instead.\n",
      "  if ax.is_first_col():\n"
     ]
    },
    {
     "data": {
      "text/plain": [
       "array([[<AxesSubplot:title={'center':'original'}>,\n",
       "        <AxesSubplot:title={'center':'fillna'}>]], dtype=object)"
      ]
     },
     "execution_count": 30,
     "metadata": {},
     "output_type": "execute_result"
    },
    {
     "data": {
      "image/png": "[encoded data removed]",
      "text/plain": [
       "<Figure size 432x288 with 2 Axes>"
      ]
     },
     "metadata": {
      "needs_background": "light"
     },
     "output_type": "display_data"
    }
   ],
   "source": [
    "cmp_fillna_sim_area = pds.DataFrame({'original': data['Area Id'], 'fillna': most_sim['Area Id']})\n",
    "cmp_fillna_sim_area.hist()"
   ]
  },
  {
   "cell_type": "code",
   "execution_count": 31,
   "id": "brown-divide",
   "metadata": {},
   "outputs": [
    {
     "data": {
      "text/plain": [
       "<AxesSubplot:>"
      ]
     },
     "execution_count": 31,
     "metadata": {},
     "output_type": "execute_result"
    },
    {
     "data": {
      "image/png": "[encoded data removed]",
      "text/plain": [
       "<Figure size 432x288 with 1 Axes>"
      ]
     },
     "metadata": {
      "needs_background": "light"
     },
     "output_type": "display_data"
    }
   ],
   "source": [
    "cmp_fillna_sim_area.boxplot()"
   ]
  },
  {
   "cell_type": "code",
   "execution_count": 32,
   "id": "sought-vision",
   "metadata": {},
   "outputs": [
    {
     "data": {
      "text/html": [
       "<div>\n",
       "<style scoped>\n",
       "    .dataframe tbody tr th:only-of-type {\n",
       "        vertical-align: middle;\n",
       "    }\n",
       "\n",
       "    .dataframe tbody tr th {\n",
       "        vertical-align: top;\n",
       "    }\n",
       "\n",
       "    .dataframe thead th {\n",
       "        text-align: right;\n",
       "    }\n",
       "</style>\n",
       "<table border=\"1\" class=\"dataframe\">\n",
       "  <thead>\n",
       "    <tr style=\"text-align: right;\">\n",
       "      <th></th>\n",
       "      <th>original</th>\n",
       "      <th>fillna</th>\n",
       "    </tr>\n",
       "  </thead>\n",
       "  <tbody>\n",
       "    <tr>\n",
       "      <th>count</th>\n",
       "      <td>179112.000000</td>\n",
       "      <td>180015.000000</td>\n",
       "    </tr>\n",
       "    <tr>\n",
       "      <th>mean</th>\n",
       "      <td>1.740648</td>\n",
       "      <td>1.740683</td>\n",
       "    </tr>\n",
       "    <tr>\n",
       "      <th>std</th>\n",
       "      <td>0.746468</td>\n",
       "      <td>0.746451</td>\n",
       "    </tr>\n",
       "    <tr>\n",
       "      <th>min</th>\n",
       "      <td>1.000000</td>\n",
       "      <td>1.000000</td>\n",
       "    </tr>\n",
       "    <tr>\n",
       "      <th>25%</th>\n",
       "      <td>1.000000</td>\n",
       "      <td>1.000000</td>\n",
       "    </tr>\n",
       "    <tr>\n",
       "      <th>50%</th>\n",
       "      <td>2.000000</td>\n",
       "      <td>2.000000</td>\n",
       "    </tr>\n",
       "    <tr>\n",
       "      <th>75%</th>\n",
       "      <td>2.000000</td>\n",
       "      <td>2.000000</td>\n",
       "    </tr>\n",
       "    <tr>\n",
       "      <th>max</th>\n",
       "      <td>3.000000</td>\n",
       "      <td>3.000000</td>\n",
       "    </tr>\n",
       "  </tbody>\n",
       "</table>\n",
       "</div>"
      ],
      "text/plain": [
       "            original         fillna\n",
       "count  179112.000000  180015.000000\n",
       "mean        1.740648       1.740683\n",
       "std         0.746468       0.746451\n",
       "min         1.000000       1.000000\n",
       "25%         1.000000       1.000000\n",
       "50%         2.000000       2.000000\n",
       "75%         2.000000       2.000000\n",
       "max         3.000000       3.000000"
      ]
     },
     "execution_count": 32,
     "metadata": {},
     "output_type": "execute_result"
    }
   ],
   "source": [
    "cmp_fillna_sim_area.describe()"
   ]
  }
 ],
 "metadata": {
  "kernelspec": {
   "display_name": "Python 3",
   "language": "python",
   "name": "python3"
  },
  "language_info": {
   "codemirror_mode": {
    "name": "ipython",
    "version": 3
   },
   "file_extension": ".py",
   "mimetype": "text/x-python",
   "name": "python",
   "nbconvert_exporter": "python",
   "pygments_lexer": "ipython3",
   "version": "3.8.8"
  }
 },
 "nbformat": 4,
 "nbformat_minor": 5
}
